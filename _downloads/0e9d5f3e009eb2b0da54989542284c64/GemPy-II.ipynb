{
  "cells": [
    {
      "cell_type": "code",
      "execution_count": null,
      "metadata": {
        "collapsed": false
      },
      "outputs": [],
      "source": [
        "%matplotlib notebook"
      ]
    },
    {
      "cell_type": "markdown",
      "metadata": {},
      "source": [
        "\n# GemPy-II: *Perth Basin*\n\nThis example is mainly about building a deep marine resistivity model that can\nbe used in other examples. There is not a lot of explanation. For more details\nregarding the integration of `GemPy` and `emg3d` see the\n`sphx_glr_gallery_models_gempy-i.py`, and make sure to consult the many\nuseful information over at `GemPy <https://www.gempy.org>`_.\n\nThe model is based on the `Perth Basin Model\n<https://docs.gempy.org/examples/real/Perth_basin.html>`_ from GemPy. We take\nthe model, assign resistivities to the lithologies, create a random topography,\nmove it 2 km down, fill it up with sea water, and add an air layer. The result\nis what is referred to in other examples as model `GemPy-II`, a synthetic,\ndeep-marine resistivity model.\n\nThis model is used in, e.g., `sphx_glr_gallery_tutorials_simulation.py`.\n\n<div class=\"alert alert-info\"><h4>Note</h4><p>The original model (*Perth_Basin*) hosted on\n    https://github.com/cgre-aachen/gempy_data is released under the `LGPL-3.0\n    License <https://www.gnu.org/licenses/lgpl-3.0.en.html>`_.</p></div>\n"
      ]
    },
    {
      "cell_type": "code",
      "execution_count": null,
      "metadata": {
        "collapsed": false
      },
      "outputs": [],
      "source": [
        "import os\nimport emg3d\nimport pooch\nfrom matplotlib.colors import LogNorm\n\n# Adjust this path to a folder of your choice.\ndata_path = os.path.join('..', 'download', '')"
      ]
    },
    {
      "cell_type": "markdown",
      "metadata": {},
      "source": [
        "## Fetch the model\n\nRetrieve and load the pre-computed resistivity model.\n\n"
      ]
    },
    {
      "cell_type": "code",
      "execution_count": null,
      "metadata": {
        "collapsed": false
      },
      "outputs": [],
      "source": [
        "fname = \"GemPy-II.h5\"\npooch.retrieve(\n    'https://raw.github.com/emsig/data/2021-05-21/emg3d/models/'+fname,\n    'ea8c23be80522d3ca8f36742c93758370df89188816f50cb4e1b2a6a3012d659',\n    fname=fname,\n    path=data_path,\n)\nfmodel = emg3d.load(data_path + fname)['model']\nfgrid = fmodel.grid"
      ]
    },
    {
      "cell_type": "markdown",
      "metadata": {},
      "source": [
        "## QC resistivity model\n\n"
      ]
    },
    {
      "cell_type": "code",
      "execution_count": null,
      "metadata": {
        "collapsed": false
      },
      "outputs": [],
      "source": [
        "fgrid.plot_3d_slicer(\n    fmodel.property_x, zslice=-3000, xslice=12000,\n    pcolor_opts={'norm': LogNorm(vmin=0.3, vmax=100)}\n)"
      ]
    },
    {
      "cell_type": "markdown",
      "metadata": {},
      "source": [
        "## Reproduce the model\n\n<div class=\"alert alert-info\"><h4>Note</h4><p>The coming sections are about how to reproduce the model. For this you\n    have to install ``gempy``. The code example and the ``GemPy-II.h5``-file\n    used in the gallery were created on 2021-05-21 with ``gempy=2.2.9`` and\n    ``pandas=1.2.4``.</p></div>\n\n\n## Get and initiate the *Perth Basin*\n\n.. code-block:: python\n\n    import gempy as gempy\n    import numpy as np\n\n    # Initiate a model\n    geo_model = gempy.create_model('GemPy-II')\n    url_path = 'https://raw.githubusercontent.com/cgre-aachen/gempy_data/'\n    url_path += 'master/data/input_data/Perth_basin/'\n    path_i = \"Paper_GU2F_sc_faults_topo_Points.csv\"\n    path_o = \"Paper_GU2F_sc_faults_topo_Foliations.csv\"\n\n    pooch.retrieve(\n        url_path + path_i,\n        'f2964249dd941ceac35355beb78abd9c3189347fa6b845b6795240cc1a2f44d9',\n        fname=path_i,\n        path=data_path,\n    )\n    pooch.retrieve(\n        url_path + path_o,\n       'a6566d5caa8ce2fdcd4e4cb0ca643602436ca697342afacb31b7f4bd1d17c83d',\n        fname=path_o,\n        path=data_path,\n    )\n\n\n    # Define the grid\n    nx, ny, nz = 100, 100, 100\n    extent = [337000, 400000, 6640000, 6710000, -12000, 1000]\n\n    # Importing the data from CSV-files and setting extent and resolution\n    gempy.init_data(\n        geo_model,\n        extent=extent,\n        resolution=[nx, ny, nz],\n        path_i=data_path + \"Paper_GU2F_sc_faults_topo_Points.csv\",\n        path_o=data_path + \"Paper_GU2F_sc_faults_topo_Foliations.csv\",\n    )\n\n"
      ]
    },
    {
      "cell_type": "markdown",
      "metadata": {},
      "source": [
        "## Initiate the stratigraphies and faults\n\n.. code-block:: python\n\n    # We just follow the example here\n    del_surfaces = ['Cadda', 'Woodada_Kockatea', 'Cattamarra']\n    geo_model.delete_surfaces(del_surfaces)\n\n    # Map the different series\n    gempy.map_series_to_surfaces(\n        geo_model,\n        {\n            \"fault_Abrolhos_Transfer\": [\"Abrolhos_Transfer\"],\n            \"fault_Coomallo\": [\"Coomallo\"],\n            \"fault_Eneabba_South\": [\"Eneabba_South\"],\n            \"fault_Hypo_fault_W\": [\"Hypo_fault_W\"],\n            \"fault_Hypo_fault_E\": [\"Hypo_fault_E\"],\n            \"fault_Urella_North\": [\"Urella_North\"],\n            \"fault_Urella_South\": [\"Urella_South\"],\n            \"fault_Darling\": [\"Darling\"],\n            \"Sedimentary_Series\": ['Cretaceous', 'Yarragadee', 'Eneabba',\n                                   'Lesueur', 'Permian']\n        }\n    )\n\n    order_series = [\"fault_Abrolhos_Transfer\",\n                    \"fault_Coomallo\",\n                    \"fault_Eneabba_South\",\n                    \"fault_Hypo_fault_W\",\n                    \"fault_Hypo_fault_E\",\n                    \"fault_Urella_North\",\n                    \"fault_Darling\",\n                    \"fault_Urella_South\",\n                    \"Sedimentary_Series\",\n                    \"Basement\"]\n\n    _ = geo_model.reorder_series(order_series)\n\n    # Drop input data from the deleted series:\n    geo_model.surface_points.df.dropna(inplace=True)\n    geo_model.orientations.df.dropna(inplace=True)\n\n    # Set faults\n    geo_model.set_is_fault([\"fault_Abrolhos_Transfer\",\n                            \"fault_Coomallo\",\n                            \"fault_Eneabba_South\",\n                            \"fault_Hypo_fault_W\",\n                            \"fault_Hypo_fault_E\",\n                            \"fault_Urella_North\",\n                            \"fault_Darling\",\n                            \"fault_Urella_South\"])\n    fr = geo_model.faults.faults_relations_df.values\n    fr[:, :-2] = False\n    _ = geo_model.set_fault_relation(fr)\n\n"
      ]
    },
    {
      "cell_type": "markdown",
      "metadata": {},
      "source": [
        "## Compute the model with GemPy\n\n.. code-block:: python\n\n    # Set the interpolator.\n    gempy.set_interpolator(\n        geo_model,\n        compile_theano=True,\n        theano_optimizer='fast_run',\n        gradient=False,\n        dtype='float32',\n        verbose=[]\n    )\n\n    # Compute it.\n    sol = gempy.compute_model(geo_model, compute_mesh=True)\n\n    # Get the solution at the internal grid points.\n    sol = gempy.compute_model(geo_model)\n\n"
      ]
    },
    {
      "cell_type": "markdown",
      "metadata": {},
      "source": [
        "## Assign resistivities to the id's\n\nWe define here a discretize mesh identical to the mesh used by GemPy, and\nsubsequently assign resistivities to the different lithologies.\n\nPlease note that these resistivities are made up, and do not necessarily\nrelate to the actual lithologies.\n\n.. code-block:: python\n\n    # We create a mesh 20 km x 20 km x 5 km, starting at the origin.\n    # As long as we have the same number of cells we can trick the grid\n    # original into any grid we want.\n    hx = np.ones(nx)*20000/nx\n    hy = np.ones(ny)*20000/ny\n    hz = np.ones(nz)*5000/nz\n    grid = emg3d.TensorMesh([hx, hy, hz], origin=(0, 0, -5000))\n\n    # Make up some resistivities that might be interesting to model.\n    ids = np.round(sol.lith_block)\n    res = np.ones(grid.n_cells)\n    res[ids == 9] = 2.0    # Cretaceous\n    res[ids == 10] = 1.0   # Yarragadee\n    res[ids == 11] = 4.0   # Eneabba\n    res[ids == 12] = 50.0  # Lesueur\n    res[ids == 13] = 7.0   # Permian\n    res[ids == 14] = 10.0  # Basement\n\n"
      ]
    },
    {
      "cell_type": "markdown",
      "metadata": {},
      "source": [
        "## Topography\n\nCalls to ``geo_model.set_topography(source='random')`` create a random\ntopography every time. In order to have it reproducible we saved it once and\nload it now.\n\nOriginally it was created and stored like this:\n\n.. code::\n\n    out = geo_model.set_topography(source='random')\n    np.save(data_path + topo_name, topo)\n\n.. code-block:: python\n\n    # Load the stored topography.\n    topo_name = 'GemPy-II-topo.npy'\n    topo_path = 'https://raw.github.com/emsig/data/2021-05-21/'\n    topo_path += 'emg3d/external/GemPy/'+topo_name\n\n    pooch.retrieve(\n        topo_path,\n        '10bb3d672ba26f6d8cb85eb33086daebb1c19bcbf9547c0b17d93f1c0dcf4e20',\n        fname=topo_name,\n        path=data_path,\n    )\n\n    out = geo_model.set_topography(\n            source='saved', filepath=data_path+topo_name, allow_pickle=True)\n    topo = out.topography.values_2d\n\n    # Apply the topography to our resistivity cube.\n    res = res.reshape(grid.shape_cells, order='C')\n\n    # Get the scaling factor betw. original extent and our made-up extent.\n    fact = 5000/np.diff(extent[4:])\n\n    # Loop over all x-y-values and convert cells above topography to water.\n    for ix in range(nx):\n        for iy in range(ny):\n            res[ix, iy, grid.cell_centers_z > topo[ix, iy, 2]*fact] = 0.3\n\n"
      ]
    },
    {
      "cell_type": "markdown",
      "metadata": {},
      "source": [
        "## Extend the model by sea water and air\n\n.. code-block:: python\n\n    # Create an emg3d-model.\n    model = emg3d.Model(grid, property_x=res.ravel('F'))\n\n    # Add 2 km water and 500 m air.\n    fhz = np.r_[np.ones(nz)*5000/nz, 2000, 500]\n    z0 = -7000\n\n    # Make the full mesh\n    fgrid = emg3d.TensorMesh([hx, hy, fhz], origin=(0, 0, z0))\n\n    # Extend the model.\n    fmodel = emg3d.Model(fgrid, np.ones(fgrid.shape_cells))\n    fmodel.property_x[:, :, :-2] = model.property_x\n    fmodel.property_x[:, :, -2] = 0.3\n    fmodel.property_x[:, :, -1] = 1e8\n\n    # emg3d.save(data_path + 'GemPy-II.h5', model=fmodel)\n\n    fgrid\n\n"
      ]
    },
    {
      "cell_type": "markdown",
      "metadata": {},
      "source": [
        "## PyVista plot\n\n<div class=\"alert alert-info\"><h4>Note</h4><p>The final cell is about how to plot the model in 3D using PyVista,\n    for which you have to install ``pyvista``.\n\n    The code example was created on 2021-05-21 with ``pyvista=0.30.1``.</p></div>\n\n.. code-block:: python\n\n    import pyvista\n    import numpy as np\n\n    dataset = fgrid.toVTK({'res': np.log10(fmodel.property_x.ravel('F'))})\n\n    # Create the rendering scene and add a grid axes\n    p = pyvista.Plotter(notebook=True)\n    p.show_grid(location='outer')\n\n    # Add spatially referenced data to the scene\n    dparams = {'rng': np.log10([0.3, 500]), 'show_edges': False}\n    xyz = (17500, 17500, -1500)\n    p.add_mesh(dataset.slice('x', xyz), name='x-slice', **dparams)\n    p.add_mesh(dataset.slice('y', xyz), name='y-slice', **dparams)\n\n    # Add a layer as 3D\n    p.add_mesh(dataset.threshold(\n        [np.log10(49.9), np.log10(50.1)]), name='vol', **dparams)\n\n    # Show the scene!\n    p.camera_position = [\n          (-10000, -41000, 8500), (10000, 10000, -3250), (0, 0, 1)\n    ]\n    p.show()\n\n\n.. figure:: ../../_static/images/GemPy-II.png\n   :scale: 66 %\n   :align: center\n   :alt: GemPy-II model with PyVista\n   :name: gempy-ii\n\n"
      ]
    },
    {
      "cell_type": "code",
      "execution_count": null,
      "metadata": {
        "collapsed": false
      },
      "outputs": [],
      "source": [
        "emg3d.Report()"
      ]
    }
  ],
  "metadata": {
    "kernelspec": {
      "display_name": "Python 3",
      "language": "python",
      "name": "python3"
    },
    "language_info": {
      "codemirror_mode": {
        "name": "ipython",
        "version": 3
      },
      "file_extension": ".py",
      "mimetype": "text/x-python",
      "name": "python",
      "nbconvert_exporter": "python",
      "pygments_lexer": "ipython3",
      "version": "3.9.4"
    }
  },
  "nbformat": 4,
  "nbformat_minor": 0
}